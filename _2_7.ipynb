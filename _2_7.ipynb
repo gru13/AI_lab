{
 "cells": [
  {
   "cell_type": "code",
   "execution_count": null,
   "metadata": {},
   "outputs": [
    {
     "ename": "",
     "evalue": "",
     "output_type": "error",
     "traceback": [
      "\u001b[1;31mRunning cells with 'c:\\Users\\ch.en.u4aie22015\\AppData\\Local\\Microsoft\\WindowsApps\\python3.11.exe' requires the ipykernel package.\n",
      "\u001b[1;31mRun the following command to install 'ipykernel' into the Python environment. \n",
      "\u001b[1;31mCommand: 'c:/Users/ch.en.u4aie22015/AppData/Local/Microsoft/WindowsApps/python3.11.exe -m pip install ipykernel -U --user --force-reinstall'"
     ]
    }
   ],
   "source": [
    "from random import randint"
   ]
  },
  {
   "cell_type": "code",
   "execution_count": null,
   "metadata": {},
   "outputs": [],
   "source": [
    "class Env:\n",
    "    def __init__(self, n) -> None:\n",
    "        \"\"\" Create Env nxn matrix with  0 as clean and 1 as dirt \"\"\"\n",
    "        self.n = n\n",
    "        self.Agent_x = 0\n",
    "        self.Agent_y = 0 \n",
    "        self.env = [[randint(0,1) for a in range(n)] for _ in range(n)]\n",
    "    def display(self):\n",
    "        for a in range(self.n):\n",
    "            for b in range(self.n):\n",
    "                print(self.env[a][b],end=\" \")\n",
    "            print()\n",
    "    def index(self, x,y):\n",
    "        pass\n",
    "    def Agentpostion(self, x,y):\n",
    "        self.env[self.Agent_x][self.Agent_y] = 0\n",
    "        self.env[x][y] = 'A'\n",
    "        self.Agent_x, self.Agent_y = x,y \n",
    "class Agent:\n",
    "    def __init__(self, env:Env) -> None:\n",
    "        self.env = env \n",
    "        self.percept_Sequenc = [] "
   ]
  }
 ],
 "metadata": {
  "kernelspec": {
   "display_name": "Python 3",
   "language": "python",
   "name": "python3"
  },
  "language_info": {
   "name": "python",
   "version": "3.11.5"
  },
  "orig_nbformat": 4
 },
 "nbformat": 4,
 "nbformat_minor": 2
}
